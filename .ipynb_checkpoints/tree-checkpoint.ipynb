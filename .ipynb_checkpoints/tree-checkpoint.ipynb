{
 "cells": [
  {
   "cell_type": "code",
   "execution_count": 12,
   "id": "81c5519c-0be6-4fb4-a014-0ab700367e47",
   "metadata": {},
   "outputs": [
    {
     "data": {
      "text/plain": [
       "'2.2.2'"
      ]
     },
     "execution_count": 12,
     "metadata": {},
     "output_type": "execute_result"
    }
   ],
   "source": [
    "import pandas as pd\n",
    "import numpy as np\n",
    "pd.__version__"
   ]
  },
  {
   "cell_type": "code",
   "execution_count": 13,
   "id": "3eb67add-069a-4727-95e7-d8ae7cbd62ac",
   "metadata": {},
   "outputs": [
    {
     "data": {
      "text/html": [
       "<div>\n",
       "<style scoped>\n",
       "    .dataframe tbody tr th:only-of-type {\n",
       "        vertical-align: middle;\n",
       "    }\n",
       "\n",
       "    .dataframe tbody tr th {\n",
       "        vertical-align: top;\n",
       "    }\n",
       "\n",
       "    .dataframe thead th {\n",
       "        text-align: right;\n",
       "    }\n",
       "</style>\n",
       "<table border=\"1\" class=\"dataframe\">\n",
       "  <thead>\n",
       "    <tr style=\"text-align: right;\">\n",
       "      <th></th>\n",
       "      <th>Cell_ID</th>\n",
       "      <th>relative_ID</th>\n",
       "      <th>relationship</th>\n",
       "    </tr>\n",
       "  </thead>\n",
       "  <tbody>\n",
       "    <tr>\n",
       "      <th>0</th>\n",
       "      <td>1</td>\n",
       "      <td>-1</td>\n",
       "      <td>mother</td>\n",
       "    </tr>\n",
       "    <tr>\n",
       "      <th>1</th>\n",
       "      <td>2</td>\n",
       "      <td>-1</td>\n",
       "      <td>mother</td>\n",
       "    </tr>\n",
       "    <tr>\n",
       "      <th>2</th>\n",
       "      <td>3</td>\n",
       "      <td>-1</td>\n",
       "      <td>mother</td>\n",
       "    </tr>\n",
       "    <tr>\n",
       "      <th>3</th>\n",
       "      <td>1</td>\n",
       "      <td>-1</td>\n",
       "      <td>mother</td>\n",
       "    </tr>\n",
       "    <tr>\n",
       "      <th>4</th>\n",
       "      <td>2</td>\n",
       "      <td>-1</td>\n",
       "      <td>mother</td>\n",
       "    </tr>\n",
       "    <tr>\n",
       "      <th>...</th>\n",
       "      <td>...</td>\n",
       "      <td>...</td>\n",
       "      <td>...</td>\n",
       "    </tr>\n",
       "    <tr>\n",
       "      <th>6839</th>\n",
       "      <td>81</td>\n",
       "      <td>14</td>\n",
       "      <td>bud</td>\n",
       "    </tr>\n",
       "    <tr>\n",
       "      <th>6840</th>\n",
       "      <td>82</td>\n",
       "      <td>15</td>\n",
       "      <td>bud</td>\n",
       "    </tr>\n",
       "    <tr>\n",
       "      <th>6841</th>\n",
       "      <td>83</td>\n",
       "      <td>56</td>\n",
       "      <td>bud</td>\n",
       "    </tr>\n",
       "    <tr>\n",
       "      <th>6842</th>\n",
       "      <td>84</td>\n",
       "      <td>39</td>\n",
       "      <td>bud</td>\n",
       "    </tr>\n",
       "    <tr>\n",
       "      <th>6843</th>\n",
       "      <td>85</td>\n",
       "      <td>49</td>\n",
       "      <td>bud</td>\n",
       "    </tr>\n",
       "  </tbody>\n",
       "</table>\n",
       "<p>6844 rows × 3 columns</p>\n",
       "</div>"
      ],
      "text/plain": [
       "      Cell_ID  relative_ID relationship\n",
       "0           1           -1       mother\n",
       "1           2           -1       mother\n",
       "2           3           -1       mother\n",
       "3           1           -1       mother\n",
       "4           2           -1       mother\n",
       "...       ...          ...          ...\n",
       "6839       81           14          bud\n",
       "6840       82           15          bud\n",
       "6841       83           56          bud\n",
       "6842       84           39          bud\n",
       "6843       85           49          bud\n",
       "\n",
       "[6844 rows x 3 columns]"
      ]
     },
     "execution_count": 13,
     "metadata": {},
     "output_type": "execute_result"
    }
   ],
   "source": [
    "df260 = pd.read_csv(\"raw_data/AllPos_acdc_output_bf_260_frames.csv\")\n",
    "spawning = df260.loc[:, ['Cell_ID', 'relative_ID', 'relationship']]\n",
    "spawning"
   ]
  },
  {
   "cell_type": "code",
   "execution_count": null,
   "id": "e6adc0cf-9365-455b-8021-9a6624e26feb",
   "metadata": {},
   "outputs": [],
   "source": [
    "class TreeNode:\n",
    "    def __init__(self, id):\n",
    "        self.relative_id = id\n",
    "        self.children = []\n",
    "    \n",
    "    def add_child(self, child_node):\n",
    "        self.children.append(child_node)\n",
    "    \n",
    "    def print_tree(self, level=0):\n",
    "        print(' ' * 4 * level + f'Node {self.relative_id}')\n",
    "        for child in self.children:\n",
    "            child.print_tree(level + 1)"
   ]
  },
  {
   "cell_type": "code",
   "execution_count": null,
   "id": "5c00ccd2-4cc3-4e97-ad47-fb4889aa7e90",
   "metadata": {},
   "outputs": [],
   "source": [
    "root = TreeNode(-1)\n",
    "# Dictionary to map Cell_IDs to TreeNode instances\n",
    "node_map = { -1: root }\n",
    "\n",
    "# Set to keep track of added children\n",
    "added_children = set()\n",
    "added_children.add(-1)"
   ]
  },
  {
   "cell_type": "code",
   "execution_count": null,
   "id": "fa0e6311-0295-447b-b0dc-1d593ab38855",
   "metadata": {},
   "outputs": [],
   "source": [
    "# Iterate through the DataFrame and build the tree\n",
    "for _, frame in spawning.iterrows():\n",
    "    if frame.Cell_ID not in added_children:\n",
    "        added_children.add(frame.Cell_ID)\n",
    "        # Create a new node for the current Cell_ID\n",
    "        new_node = TreeNode(frame.Cell_ID)\n",
    "        # Find the parent node using relative_ID\n",
    "        parent_node = node_map.get(frame.relative_ID, None)\n",
    "        \n",
    "        if parent_node:\n",
    "            # Add the new node as a child to the parent node\n",
    "            parent_node.add_child(new_node)\n",
    "            # Map the new node to its Cell_ID in the node_map\n",
    "            node_map[frame.Cell_ID] = new_node\n",
    "        else:\n",
    "            print(f\"Parent node with relative_ID {frame.relative_ID} not found for Cell_ID {frame.Cell_ID}\")"
   ]
  },
  {
   "cell_type": "code",
   "execution_count": null,
   "id": "1a2106a6-ab3b-4cf6-8daf-6e05774843e0",
   "metadata": {},
   "outputs": [],
   "source": [
    "root.print_tree()"
   ]
  }
 ],
 "metadata": {
  "kernelspec": {
   "display_name": "Python 3 (ipykernel)",
   "language": "python",
   "name": "python3"
  },
  "language_info": {
   "codemirror_mode": {
    "name": "ipython",
    "version": 3
   },
   "file_extension": ".py",
   "mimetype": "text/x-python",
   "name": "python",
   "nbconvert_exporter": "python",
   "pygments_lexer": "ipython3",
   "version": "3.12.5"
  }
 },
 "nbformat": 4,
 "nbformat_minor": 5
}
