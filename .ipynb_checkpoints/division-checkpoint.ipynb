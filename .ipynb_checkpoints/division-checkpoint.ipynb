{
 "cells": [
  {
   "cell_type": "code",
   "execution_count": 1,
   "id": "4f68af01-7816-407c-896e-4e473e8b9190",
   "metadata": {},
   "outputs": [],
   "source": [
    "import pandas as pd\n",
    "import numpy as np\n",
    "from sklearn.preprocessing import MinMaxScaler\n",
    "from tensorflow.keras.models import load_model\n",
    "import joblib"
   ]
  },
  {
   "cell_type": "code",
   "execution_count": 2,
   "id": "21ed3ede-55b5-4714-80f7-ef6ce6f0630f",
   "metadata": {},
   "outputs": [
    {
     "name": "stderr",
     "output_type": "stream",
     "text": [
      "WARNING:absl:Compiled the loaded model, but the compiled metrics have yet to be built. `model.compile_metrics` will be empty until you train or evaluate the model.\n"
     ]
    }
   ],
   "source": [
    "model = load_model('lstm_cell_division_model.h5')\n",
    "scaler = joblib.load('scaler_cellarea.pkl')"
   ]
  },
  {
   "cell_type": "code",
   "execution_count": 3,
   "id": "71dd36d6-99ab-4780-9863-eb7e5ccc9a7c",
   "metadata": {},
   "outputs": [],
   "source": [
    "def preprocess_csv(csv_path):\n",
    "    data = pd.read_csv(csv_path)\n",
    "    \n",
    "    required_columns = ['time_minutes', 'cell_area_um2', 'division_frame_i']\n",
    "    if not all(col in data.columns for col in required_columns):\n",
    "        raise ValueError(f\"CSV must contain columns: {', '.join(required_columns)}\")\n",
    "    \n",
    "    data['cell_area_um2'] = scaler.transform(data[['cell_area_um2']])\n",
    "    \n",
    "    data['division_label'] = data['division_frame_i'].apply(lambda x: 0 if x == -1 else 1)\n",
    "    \n",
    "    divided_frames = set()\n",
    "    filtered_rows = []\n",
    "    for idx, row in data.iterrows():\n",
    "        division_frame = row['division_frame_i']\n",
    "        if division_frame != -1 and division_frame in divided_frames:\n",
    "            continue\n",
    "        if division_frame != -1:\n",
    "            divided_frames.add(division_frame)  \n",
    "        filtered_rows.append(row)\n",
    "  \n",
    "    filtered_data = pd.DataFrame(filtered_rows)\n",
    "    return filtered_data"
   ]
  },
  {
   "cell_type": "code",
   "execution_count": 4,
   "id": "a692ec29-ca43-4241-8780-c5cf857272bf",
   "metadata": {},
   "outputs": [],
   "source": [
    "def create_sequences(data, sequence_length=10):\n",
    "    X = []\n",
    "    for i in range(len(data) - sequence_length):\n",
    "        seq_x = data['cell_area_um2'].iloc[i:i+sequence_length].values\n",
    "        X.append(seq_x)\n",
    "    return np.array(X)"
   ]
  },
  {
   "cell_type": "code",
   "execution_count": 5,
   "id": "3625cc77-2e88-4cc5-888d-2454e3a7fd4a",
   "metadata": {},
   "outputs": [],
   "source": [
    "def predict_division_probability(csv_path, sequence_length=10):\n",
    "    processed_data = preprocess_csv(csv_path)\n",
    "    \n",
    "    X = create_sequences(processed_data, sequence_length)\n",
    "    \n",
    "    X_reshaped = X.reshape((-1, sequence_length, 1))\n",
    "    \n",
    "    probabilities = model.predict(X_reshaped)\n",
    "    \n",
    "    return probabilities"
   ]
  },
  {
   "cell_type": "code",
   "execution_count": 6,
   "id": "c34b06f5-b8e3-42ef-89e5-e661f51a0733",
   "metadata": {},
   "outputs": [
    {
     "ename": "NameError",
     "evalue": "name 's' is not defined",
     "output_type": "error",
     "traceback": [
      "\u001b[1;31m---------------------------------------------------------------------------\u001b[0m",
      "\u001b[1;31mNameError\u001b[0m                                 Traceback (most recent call last)",
      "Cell \u001b[1;32mIn[6], line 2\u001b[0m\n\u001b[0;32m      1\u001b[0m csv_path \u001b[38;5;241m=\u001b[39m \u001b[38;5;124m'\u001b[39m\u001b[38;5;124mraw_data/AllPos_acdc_output_bf_260_frames.csv\u001b[39m\u001b[38;5;124m'\u001b[39m  \n\u001b[1;32m----> 2\u001b[0m probabilities \u001b[38;5;241m=\u001b[39m \u001b[43mpredict_division_probability\u001b[49m\u001b[43m(\u001b[49m\u001b[43mcsv_path\u001b[49m\u001b[43m)\u001b[49m\n\u001b[0;32m      5\u001b[0m \u001b[38;5;28mprint\u001b[39m(probabilities)\n",
      "Cell \u001b[1;32mIn[5], line 2\u001b[0m, in \u001b[0;36mpredict_division_probability\u001b[1;34m(csv_path, sequence_length)\u001b[0m\n\u001b[0;32m      1\u001b[0m \u001b[38;5;28;01mdef\u001b[39;00m \u001b[38;5;21mpredict_division_probability\u001b[39m(csv_path, sequence_length\u001b[38;5;241m=\u001b[39m\u001b[38;5;241m10\u001b[39m):\n\u001b[1;32m----> 2\u001b[0m     processed_data \u001b[38;5;241m=\u001b[39m \u001b[43mpreprocess_csv\u001b[49m\u001b[43m(\u001b[49m\u001b[43mcsv_path\u001b[49m\u001b[43m)\u001b[49m\n\u001b[0;32m      4\u001b[0m     X \u001b[38;5;241m=\u001b[39m create_sequences(processed_data, sequence_length)\n\u001b[0;32m      6\u001b[0m     X_reshaped \u001b[38;5;241m=\u001b[39m X\u001b[38;5;241m.\u001b[39mreshape((\u001b[38;5;241m-\u001b[39m\u001b[38;5;241m1\u001b[39m, sequence_length, \u001b[38;5;241m1\u001b[39m))\n",
      "Cell \u001b[1;32mIn[3], line 21\u001b[0m, in \u001b[0;36mpreprocess_csv\u001b[1;34m(csv_path)\u001b[0m\n\u001b[0;32m     19\u001b[0m         divided_frames\u001b[38;5;241m.\u001b[39madd(division_frame)  \n\u001b[0;32m     20\u001b[0m     filtered_rows\u001b[38;5;241m.\u001b[39mappend(row)\n\u001b[1;32m---> 21\u001b[0m \u001b[43ms\u001b[49m\n\u001b[0;32m     22\u001b[0m filtered_data \u001b[38;5;241m=\u001b[39m pd\u001b[38;5;241m.\u001b[39mDataFrame(filtered_rows)\n\u001b[0;32m     23\u001b[0m \u001b[38;5;28;01mreturn\u001b[39;00m filtered_data\n",
      "\u001b[1;31mNameError\u001b[0m: name 's' is not defined"
     ]
    }
   ],
   "source": [
    "csv_path = 'raw_data/AllPos_acdc_output_bf_260_frames.csv'  \n",
    "probabilities = predict_division_probability(csv_path)\n",
    "\n",
    "print(probabilities)"
   ]
  },
  {
   "cell_type": "code",
   "execution_count": null,
   "id": "53c8775a-9ef9-4147-91e2-cda05a285a98",
   "metadata": {},
   "outputs": [],
   "source": []
  }
 ],
 "metadata": {
  "kernelspec": {
   "display_name": "Python 3 (ipykernel)",
   "language": "python",
   "name": "python3"
  },
  "language_info": {
   "codemirror_mode": {
    "name": "ipython",
    "version": 3
   },
   "file_extension": ".py",
   "mimetype": "text/x-python",
   "name": "python",
   "nbconvert_exporter": "python",
   "pygments_lexer": "ipython3",
   "version": "3.12.5"
  }
 },
 "nbformat": 4,
 "nbformat_minor": 5
}
