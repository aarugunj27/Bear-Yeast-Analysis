{
 "cells": [
  {
   "cell_type": "code",
   "execution_count": 4,
   "id": "741899e8-2dc0-49c0-815a-a4746043afdc",
   "metadata": {},
   "outputs": [
    {
     "data": {
      "text/plain": [
       "'2.2.2'"
      ]
     },
     "execution_count": 4,
     "metadata": {},
     "output_type": "execute_result"
    }
   ],
   "source": [
    "import pandas as pd\n",
    "import numpy as np\n",
    "pd.__version__"
   ]
  },
  {
   "cell_type": "code",
   "execution_count": 9,
   "id": "395a5e92-7128-4412-9632-211759c76038",
   "metadata": {},
   "outputs": [
    {
     "name": "stdout",
     "output_type": "stream",
     "text": [
      "      Position_n  Cell_ID  frame_i  time_seconds  time_minutes  time_hours  \\\n",
      "0     Position_1        1        0           0.0           0.0        0.00   \n",
      "1     Position_1        2        0           0.0           0.0        0.00   \n",
      "2     Position_1        3        0           0.0           0.0        0.00   \n",
      "3     Position_1        1        1         180.0           3.0        0.05   \n",
      "4     Position_1        2        1         180.0           3.0        0.05   \n",
      "...          ...      ...      ...           ...           ...         ...   \n",
      "6839  Position_1       81      260       46800.0         780.0       13.00   \n",
      "6840  Position_1       82      260       46800.0         780.0       13.00   \n",
      "6841  Position_1       83      260       46800.0         780.0       13.00   \n",
      "6842  Position_1       84      260       46800.0         780.0       13.00   \n",
      "6843  Position_1       85      260       46800.0         780.0       13.00   \n",
      "\n",
      "     cell_cycle_stage  generation_num  relative_ID relationship  ...  \\\n",
      "0                  G1               2           -1       mother  ...   \n",
      "1                  G1               2           -1       mother  ...   \n",
      "2                  G1               2           -1       mother  ...   \n",
      "3                  G1               2           -1       mother  ...   \n",
      "4                  G1               2           -1       mother  ...   \n",
      "...               ...             ...          ...          ...  ...   \n",
      "6839                S               0           14          bud  ...   \n",
      "6840                S               0           15          bud  ...   \n",
      "6841                S               0           56          bud  ...   \n",
      "6842                S               0           39          bud  ...   \n",
      "6843                S               0           49          bud  ...   \n",
      "\n",
      "      moments_central-2-2  moments_central-2-3  moments_central-3-0  \\\n",
      "0            1.639060e+07        -2.201803e+06         46458.327158   \n",
      "1            9.860776e+07         2.710915e+07         89210.950300   \n",
      "2            1.372049e+06         1.222859e+05         14125.389748   \n",
      "3            1.743448e+07        -2.013135e+06         72487.300649   \n",
      "4            9.068206e+07         1.531312e+07        113900.754355   \n",
      "...                   ...                  ...                  ...   \n",
      "6839         1.286234e+06        -1.771752e+04         -2712.848439   \n",
      "6840         3.266978e+05         2.918776e+05          8657.776742   \n",
      "6841         1.123043e+05         6.900106e+04         -2776.763569   \n",
      "6842         6.227900e+04         4.434780e+04          3676.503536   \n",
      "6843         1.491115e+05        -1.088703e+05         -8828.747918   \n",
      "\n",
      "      moments_central-3-1  moments_central-3-2  moments_central-3-3  bbox-0  \\\n",
      "0           -4.546496e+06         3.709793e+05        -8.957554e+08     247   \n",
      "1            6.382737e+07        -6.692192e+06         2.271526e+10     248   \n",
      "2            7.025348e+04        -9.912142e+05         3.466418e+06     309   \n",
      "3           -5.001271e+06        -3.305370e+06        -1.049074e+09     247   \n",
      "4            5.846069e+07         7.685210e+05         2.005727e+10     248   \n",
      "...                   ...                  ...                  ...     ...   \n",
      "6839        -2.072012e+05         5.606434e+05        -1.738905e+07     266   \n",
      "6840        -5.613141e+04        -2.550788e+05        -3.975518e+06     367   \n",
      "6841        -1.060067e+04         7.334655e+04        -1.665686e+05     207   \n",
      "6842         2.943060e+04        -3.015055e+02         5.553304e+05     199   \n",
      "6843         2.165993e+04         1.744951e+05         6.480483e+05     561   \n",
      "\n",
      "      bbox-1  bbox-2  bbox-3  \n",
      "0        333     291     377  \n",
      "1        271     307     332  \n",
      "2        290     339     318  \n",
      "3        333     291     378  \n",
      "4        272     307     331  \n",
      "...      ...     ...     ...  \n",
      "6839      51     293      81  \n",
      "6840     480     393     502  \n",
      "6841     443     227     462  \n",
      "6842     179     219     196  \n",
      "6843     111     583     132  \n",
      "\n",
      "[6844 rows x 149 columns]\n"
     ]
    }
   ],
   "source": [
    "df260 = pd.read_csv(\"AllPos_acdc_output_bf_260_frames.csv\")\n",
    "print(df260)"
   ]
  },
  {
   "cell_type": "code",
   "execution_count": 38,
   "id": "14dc11af-8aa5-4c41-b648-cf3ff9077988",
   "metadata": {},
   "outputs": [],
   "source": [
    "spawning = df260.loc[:, ['Cell_ID', 'relative_ID', 'relationship']]"
   ]
  },
  {
   "cell_type": "code",
   "execution_count": 32,
   "id": "7929de0c-7baa-42f4-afb2-0d60448b07e3",
   "metadata": {},
   "outputs": [],
   "source": [
    "class TreeNode:\n",
    "    def __init__(self, id):\n",
    "        self.relative_id = id\n",
    "        self.children = []"
   ]
  },
  {
   "cell_type": "code",
   "execution_count": 36,
   "id": "8c3c93fe-3d03-4368-a97f-28118739651d",
   "metadata": {},
   "outputs": [],
   "source": [
    "root = TreeNode(-1)"
   ]
  },
  {
   "cell_type": "code",
   "execution_count": 55,
   "id": "6a0894bf-5c5c-47dc-90e3-de320400de2e",
   "metadata": {},
   "outputs": [
    {
     "ename": "AttributeError",
     "evalue": "'list' object has no attribute 'relative_ID'",
     "output_type": "error",
     "traceback": [
      "\u001b[1;31m---------------------------------------------------------------------------\u001b[0m",
      "\u001b[1;31mAttributeError\u001b[0m                            Traceback (most recent call last)",
      "Cell \u001b[1;32mIn[55], line 13\u001b[0m\n\u001b[0;32m     10\u001b[0m         mother \u001b[38;5;241m=\u001b[39m m[frame\u001b[38;5;241m.\u001b[39mrelative_ID]\n\u001b[0;32m     11\u001b[0m         mother\u001b[38;5;241m.\u001b[39mchildren\u001b[38;5;241m.\u001b[39mappend(node)\n\u001b[1;32m---> 13\u001b[0m \u001b[43mroot\u001b[49m\u001b[38;5;241;43m.\u001b[39;49m\u001b[43mchildren\u001b[49m\u001b[38;5;241;43m.\u001b[39;49m\u001b[43mrelative_ID\u001b[49m\n",
      "\u001b[1;31mAttributeError\u001b[0m: 'list' object has no attribute 'relative_ID'"
     ]
    }
   ],
   "source": [
    "children = set()\n",
    "m = {\n",
    "    -1: root\n",
    "}\n",
    "for i, frame in spawning.iterrows():\n",
    "    if frame.Cell_ID not in children:\n",
    "        children.add(frame.Cell_ID)\n",
    "        node = TreeNode(frame.Cell_ID)\n",
    "        m[frame.Cell_ID] = node\n",
    "        mother = m[frame.relative_ID]\n",
    "        mother.children.append(node)\n",
    "\n",
    "root.children.relative_ID"
   ]
  },
  {
   "cell_type": "code",
   "execution_count": null,
   "id": "8e6e86e8-952f-46bc-a0de-05a970d2f921",
   "metadata": {},
   "outputs": [],
   "source": []
  }
 ],
 "metadata": {
  "kernelspec": {
   "display_name": "Python 3 (ipykernel)",
   "language": "python",
   "name": "python3"
  },
  "language_info": {
   "codemirror_mode": {
    "name": "ipython",
    "version": 3
   },
   "file_extension": ".py",
   "mimetype": "text/x-python",
   "name": "python",
   "nbconvert_exporter": "python",
   "pygments_lexer": "ipython3",
   "version": "3.12.5"
  }
 },
 "nbformat": 4,
 "nbformat_minor": 5
}
